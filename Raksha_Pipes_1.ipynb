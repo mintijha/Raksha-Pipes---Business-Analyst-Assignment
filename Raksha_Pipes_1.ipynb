{
  "nbformat": 4,
  "nbformat_minor": 0,
  "metadata": {
    "colab": {
      "provenance": [],
      "authorship_tag": "ABX9TyPBieZd+ZnN3lsx2VjcwwP6",
      "include_colab_link": true
    },
    "kernelspec": {
      "name": "python3",
      "display_name": "Python 3"
    },
    "language_info": {
      "name": "python"
    }
  },
  "cells": [
    {
      "cell_type": "markdown",
      "metadata": {
        "id": "view-in-github",
        "colab_type": "text"
      },
      "source": [
        "<a href=\"https://colab.research.google.com/github/mintijha/Raksha-Pipes---Business-Analyst-Assignment/blob/main/Raksha_Pipes_1.ipynb\" target=\"_parent\"><img src=\"https://colab.research.google.com/assets/colab-badge.svg\" alt=\"Open In Colab\"/></a>"
      ]
    },
    {
      "cell_type": "code",
      "execution_count": null,
      "metadata": {
        "id": "TxXWU1FRhxp6"
      },
      "outputs": [],
      "source": [
        "import pandas as pd\n",
        "import numpy as np\n",
        "import random\n",
        "import string\n",
        "\n",
        "# Set seed for reproducibility\n",
        "np.random.seed(0)\n",
        "random.seed(0)\n",
        "\n",
        "# Function to generate random string\n",
        "def random_string(length=6):\n",
        "    letters = string.ascii_letters\n",
        "    return ''.join(random.choice(letters) for i in range(length))\n",
        "\n",
        "# Create products table\n",
        "products = pd.DataFrame({\n",
        "    'product_id': range(1, 501),\n",
        "    'product_name': [f\"Product_{i}\" for i in range(1, 501)],\n",
        "    'brand_id': np.random.randint(1, 51, size=500),\n",
        "    'cleaning_category_id': np.random.randint(1, 21, size=500)\n",
        "})\n",
        "\n",
        "# Create cleaning_categories table\n",
        "cleaning_categories = pd.DataFrame({\n",
        "    'cleaning_category_id': range(1, 21),\n",
        "    'category_name': [f\"Category_{i}\" for i in range(1, 21)]\n",
        "})\n",
        "\n",
        "# Create orders table\n",
        "orders = pd.DataFrame({\n",
        "    'order_id': range(1, 501),\n",
        "    'product_id': np.random.choice(products['product_id'], size=500),\n",
        "    'customer_id': np.random.randint(1, 301, size=500),\n",
        "    'quantity': np.random.randint(1, 11, size=500),\n",
        "    'order_date': pd.date_range(start='2022-01-01', end='2024-12-31', periods=500)\n",
        "})\n",
        "\n",
        "# Merge products and orders to ensure product details in orders\n",
        "orders = pd.merge(orders, products[['product_id', 'product_name', 'brand_id']], on='product_id', how='left')\n",
        "\n",
        "# Create brands_prices table\n",
        "brands_prices = pd.DataFrame({\n",
        "    'brand_id': range(1, 51),\n",
        "    'brand_name': [f\"Brand_{i}\" for i in range(1, 51)],\n",
        "    'price': np.random.randint(10, 100, size=50)\n",
        "})\n",
        "\n",
        "# Create product_sales_info table\n",
        "product_sales_info = pd.DataFrame({\n",
        "    'product_id': range(1, 501),\n",
        "    'sales_year': np.random.randint(2022, 2025, size=500),\n",
        "    'sales_month': np.random.randint(1, 13, size=500),\n",
        "    'units_sold': np.random.randint(10, 1000, size=500)\n",
        "})\n",
        "\n",
        "# Create Product_data_raing table\n",
        "product_data_rating = pd.DataFrame({\n",
        "    'product_id': range(1, 501),\n",
        "    'rating': np.random.randint(1, 6, size=500)\n",
        "})\n",
        "\n",
        "# Create water_tanks_data table\n",
        "water_tanks_data = pd.DataFrame({\n",
        "    'product_id': range(1, 501),\n",
        "    'capacity_litres': np.random.randint(100, 10000, size=500),\n",
        "    'material': [random.choice(['Steel', 'Plastic', 'Concrete']) for _ in range(500)]\n",
        "})\n",
        "\n",
        "# Create customer_data table\n",
        "customer_data = pd.DataFrame({\n",
        "    'customer_id': range(1, 301),\n",
        "    'customer_name': [f\"Customer_{i}\" for i in range(1, 301)],\n",
        "    'city': [f\"City_{i}\" for i in range(1, 301)],\n",
        "    'email': [f\"customer_{i}@example.com\" for i in range(1, 301)]\n",
        "})\n"
      ]
    },
    {
      "cell_type": "code",
      "source": [
        "import os\n",
        "\n",
        "# Create a new folder\n",
        "folder_name = r\"C:\\Users\\ASUS\\Desktop\\rakha pipe\"\n",
        "os.makedirs(folder_name, exist_ok=True)\n",
        "\n",
        "# Define file paths\n",
        "file_paths = {\n",
        "    'products.csv': 'products',\n",
        "    'cleaning_categories.csv': 'cleaning_categories',\n",
        "    'orders.csv': 'orders',\n",
        "    'brands_prices.csv': 'brands_prices',\n",
        "    'product_sales_info.csv': 'product_sales_info',\n",
        "    'product_data_rating.csv': 'product_data_rating',\n",
        "    'water_tanks_data.csv': 'water_tanks_data',\n",
        "    'customer_data.csv': 'customer_data'\n",
        "}\n",
        "\n",
        "# Export files to the new folder\n",
        "for file, table_name in file_paths.items():\n",
        "    file_path = os.path.join(folder_name, file)\n",
        "    globals()[table_name].to_csv(file_path, index=False)"
      ],
      "metadata": {
        "id": "M2TUi4VejXZq"
      },
      "execution_count": null,
      "outputs": []
    },
    {
      "cell_type": "code",
      "source": [],
      "metadata": {
        "id": "Uw2dLYGAjzfE"
      },
      "execution_count": null,
      "outputs": []
    }
  ]
}